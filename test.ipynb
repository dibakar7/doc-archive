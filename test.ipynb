{
 "cells": [
  {
   "cell_type": "markdown",
   "metadata": {},
   "source": [
    "This .ipynb file was only created to test certain modules, functions to check wether it is working or not and even\n",
    "how to optimally update the code. \n",
    "\n",
    "Main file is app.py."
   ]
  },
  {
   "cell_type": "code",
   "execution_count": 2,
   "metadata": {},
   "outputs": [
    {
     "name": "stderr",
     "output_type": "stream",
     "text": [
      "d:\\Projects\\CallPrep\\.venv\\Lib\\site-packages\\pinecone\\data\\index.py:1: TqdmWarning: IProgress not found. Please update jupyter and ipywidgets. See https://ipywidgets.readthedocs.io/en/stable/user_install.html\n",
      "  from tqdm.autonotebook import tqdm\n"
     ]
    }
   ],
   "source": [
    "from pinecone import Pinecone\n",
    "from langchain_community.embeddings import SentenceTransformerEmbeddings\n",
    "from langchain.text_splitter import RecursiveCharacterTextSplitter\n",
    "from langchain.document_loaders import PyPDFDirectoryLoader"
   ]
  },
  {
   "cell_type": "code",
   "execution_count": 3,
   "metadata": {},
   "outputs": [],
   "source": [
    "def chunk_text(text, chunk_size=400, chunk_overlap=20):\n",
    "    text_splitter = RecursiveCharacterTextSplitter(chunk_size=chunk_size, chunk_overlap=chunk_overlap)\n",
    "    # document = Document(page_content=text)\n",
    "    chunked_texts = text_splitter.split_documents(text)\n",
    "    # return [chunk.page_content for chunk in chunked_texts]\n",
    "    return chunked_texts"
   ]
  },
  {
   "cell_type": "code",
   "execution_count": 4,
   "metadata": {},
   "outputs": [],
   "source": [
    "def read_doc(directory):\n",
    "    file_loader=PyPDFDirectoryLoader(directory)\n",
    "    documents=file_loader.load()\n",
    "    return documents"
   ]
  },
  {
   "cell_type": "code",
   "execution_count": 5,
   "metadata": {},
   "outputs": [
    {
     "data": {
      "text/plain": [
       "[]"
      ]
     },
     "execution_count": 5,
     "metadata": {},
     "output_type": "execute_result"
    }
   ],
   "source": [
    "doc=read_doc('docs/')\n",
    "doc"
   ]
  },
  {
   "cell_type": "code",
   "execution_count": 6,
   "metadata": {},
   "outputs": [
    {
     "name": "stderr",
     "output_type": "stream",
     "text": [
      "d:\\Projects\\CallPrep\\.venv\\Lib\\site-packages\\huggingface_hub\\file_download.py:1132: FutureWarning: `resume_download` is deprecated and will be removed in version 1.0.0. Downloads always resume when possible. If you want to force a new download, use `force_download=True`.\n",
      "  warnings.warn(\n"
     ]
    }
   ],
   "source": [
    "embeddings_model = SentenceTransformerEmbeddings(model_name = \"all-MiniLm-L6-v2\")\n",
    "\n",
    "# Function to generate embeddings\n",
    "def generate_embeddings(chunked_texts):\n",
    "    vector_embeddings = embeddings_model.embed_documents(chunked_texts)\n",
    "    return vector_embeddings"
   ]
  },
  {
   "cell_type": "code",
   "execution_count": 7,
   "metadata": {},
   "outputs": [],
   "source": [
    "pc = Pinecone(api_key=\"8b4a6ab8-9fbb-45ce-b654-b269644b091a\")\n",
    "index_name = \"doc-archive\"\n",
    "index = pc.Index(index_name)"
   ]
  },
  {
   "cell_type": "code",
   "execution_count": 10,
   "metadata": {},
   "outputs": [],
   "source": [
    "query = \"water resource\"\n",
    "query_embedding = embeddings_model.embed_query(query)\n",
    "search_results = index.query(vector=query_embedding, include_metadata=True, top_k=20)"
   ]
  },
  {
   "cell_type": "code",
   "execution_count": 11,
   "metadata": {},
   "outputs": [
    {
     "data": {
      "text/plain": [
       "{'matches': [{'id': 'WWF_CaseStudies_final.pdf_67',\n",
       "              'metadata': {'filename': 'WWF_CaseStudies_final.pdf'},\n",
       "              'score': 0.58495909,\n",
       "              'values': []},\n",
       "             {'id': 'WWF_CaseStudies_final.pdf_95',\n",
       "              'metadata': {'filename': 'WWF_CaseStudies_final.pdf'},\n",
       "              'score': 0.581298411,\n",
       "              'values': []},\n",
       "             {'id': 'WWF_CaseStudies_final.pdf_100',\n",
       "              'metadata': {'filename': 'WWF_CaseStudies_final.pdf'},\n",
       "              'score': 0.551592469,\n",
       "              'values': []},\n",
       "             {'id': 'WWF_CaseStudies_final.pdf_17',\n",
       "              'metadata': {'filename': 'WWF_CaseStudies_final.pdf'},\n",
       "              'score': 0.548508167,\n",
       "              'values': []},\n",
       "             {'id': 'WWF_CaseStudies_final.pdf_76',\n",
       "              'metadata': {'filename': 'WWF_CaseStudies_final.pdf'},\n",
       "              'score': 0.547255397,\n",
       "              'values': []},\n",
       "             {'id': 'WWF_CaseStudies_final.pdf_18',\n",
       "              'metadata': {'filename': 'WWF_CaseStudies_final.pdf'},\n",
       "              'score': 0.546117127,\n",
       "              'values': []},\n",
       "             {'id': 'WWF_CaseStudies_final.pdf_51',\n",
       "              'metadata': {'filename': 'WWF_CaseStudies_final.pdf'},\n",
       "              'score': 0.545860887,\n",
       "              'values': []},\n",
       "             {'id': 'WWF_CaseStudies_final.pdf_77',\n",
       "              'metadata': {'filename': 'WWF_CaseStudies_final.pdf'},\n",
       "              'score': 0.5449332,\n",
       "              'values': []},\n",
       "             {'id': 'WWF_CaseStudies_final.pdf_62',\n",
       "              'metadata': {'filename': 'WWF_CaseStudies_final.pdf'},\n",
       "              'score': 0.542919934,\n",
       "              'values': []},\n",
       "             {'id': 'WWF_CaseStudies_final.pdf_3',\n",
       "              'metadata': {'filename': 'WWF_CaseStudies_final.pdf'},\n",
       "              'score': 0.541944683,\n",
       "              'values': []},\n",
       "             {'id': 'WWF_CaseStudies_final.pdf_124',\n",
       "              'metadata': {'filename': 'WWF_CaseStudies_final.pdf'},\n",
       "              'score': 0.533915579,\n",
       "              'values': []},\n",
       "             {'id': 'WWF_CaseStudies_final.pdf_59',\n",
       "              'metadata': {'filename': 'WWF_CaseStudies_final.pdf'},\n",
       "              'score': 0.52579093,\n",
       "              'values': []},\n",
       "             {'id': 'WWF_CaseStudies_final.pdf_119',\n",
       "              'metadata': {'filename': 'WWF_CaseStudies_final.pdf'},\n",
       "              'score': 0.524360299,\n",
       "              'values': []},\n",
       "             {'id': 'WWF_CaseStudies_final.pdf_84',\n",
       "              'metadata': {'filename': 'WWF_CaseStudies_final.pdf'},\n",
       "              'score': 0.522684932,\n",
       "              'values': []},\n",
       "             {'id': 'WWF_CaseStudies_final.pdf_96',\n",
       "              'metadata': {'filename': 'WWF_CaseStudies_final.pdf'},\n",
       "              'score': 0.51947093,\n",
       "              'values': []},\n",
       "             {'id': 'WWF_CaseStudies_final.pdf_16',\n",
       "              'metadata': {'filename': 'WWF_CaseStudies_final.pdf'},\n",
       "              'score': 0.519078672,\n",
       "              'values': []},\n",
       "             {'id': 'WWF_CaseStudies_final.pdf_61',\n",
       "              'metadata': {'filename': 'WWF_CaseStudies_final.pdf'},\n",
       "              'score': 0.518435895,\n",
       "              'values': []},\n",
       "             {'id': 'WWF_CaseStudies_final.pdf_125',\n",
       "              'metadata': {'filename': 'WWF_CaseStudies_final.pdf'},\n",
       "              'score': 0.517904043,\n",
       "              'values': []},\n",
       "             {'id': 'WWF_CaseStudies_final.pdf_11',\n",
       "              'metadata': {'filename': 'WWF_CaseStudies_final.pdf'},\n",
       "              'score': 0.517868578,\n",
       "              'values': []},\n",
       "             {'id': 'WWF_CaseStudies_final.pdf_80',\n",
       "              'metadata': {'filename': 'WWF_CaseStudies_final.pdf'},\n",
       "              'score': 0.517387092,\n",
       "              'values': []}],\n",
       " 'namespace': '',\n",
       " 'usage': {'read_units': 7}}"
      ]
     },
     "execution_count": 11,
     "metadata": {},
     "output_type": "execute_result"
    }
   ],
   "source": [
    "search_results"
   ]
  },
  {
   "cell_type": "code",
   "execution_count": 21,
   "metadata": {},
   "outputs": [],
   "source": [
    "document = []\n",
    "for match in search_results.matches:\n",
    "    filename = match.metadata['filename']\n",
    "    document.append(filename)"
   ]
  },
  {
   "cell_type": "code",
   "execution_count": 22,
   "metadata": {},
   "outputs": [
    {
     "data": {
      "text/plain": [
       "['harshibars-resume.pdf',\n",
       " 'harshibars-resume.pdf',\n",
       " 'Resume@Dibakar-2.pdf',\n",
       " 'Resume@Dibakar-2.pdf',\n",
       " 'harshibars-resume.pdf']"
      ]
     },
     "execution_count": 22,
     "metadata": {},
     "output_type": "execute_result"
    }
   ],
   "source": [
    "document"
   ]
  },
  {
   "cell_type": "code",
   "execution_count": null,
   "metadata": {},
   "outputs": [],
   "source": [
    "documents = []\n",
    "for match in search_results.results[0].matches:\n",
    "    metadata = match.metadata\n",
    "    document_name = metadata.get('filename')\n",
    "    if document_name:\n",
    "        documents.append({\"filename\": document_name})"
   ]
  }
 ],
 "metadata": {
  "kernelspec": {
   "display_name": ".venv",
   "language": "python",
   "name": "python3"
  },
  "language_info": {
   "codemirror_mode": {
    "name": "ipython",
    "version": 3
   },
   "file_extension": ".py",
   "mimetype": "text/x-python",
   "name": "python",
   "nbconvert_exporter": "python",
   "pygments_lexer": "ipython3",
   "version": "3.11.4"
  }
 },
 "nbformat": 4,
 "nbformat_minor": 2
}
